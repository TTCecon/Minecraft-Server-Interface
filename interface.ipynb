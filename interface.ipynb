{
 "cells": [
  {
   "cell_type": "code",
   "execution_count": 1,
   "id": "4aed5ea2-77da-46d0-be32-84f4c953b7be",
   "metadata": {},
   "outputs": [
    {
     "name": "stdout",
     "output_type": "stream",
     "text": [
      "Requirement already satisfied: pillow in /opt/anaconda3/lib/python3.11/site-packages (10.2.0)\r\n"
     ]
    }
   ],
   "source": [
    "!pip install pillow\n"
   ]
  },
  {
   "cell_type": "code",
   "execution_count": 3,
   "id": "04f61c1f-d25e-41a4-a845-beb17d7ef2fd",
   "metadata": {
    "scrolled": true
   },
   "outputs": [],
   "source": [
    "import tkinter as tk\n",
    "from tkinter import PhotoImage, Frame, Scale, Label\n",
    "from PIL import Image, ImageTk\n",
    "\n",
    "def load_image():\n",
    "    global photo  # 將 photo 定義為全局變量\n",
    "    image_path = \"011.png\"  # 替換為你的圖片文件名\n",
    "    image = Image.open(image_path)\n",
    "    photo = ImageTk.PhotoImage(image)\n",
    "    return photo\n",
    "\n",
    "def main():\n",
    "    global photo\n",
    "    # 創建主視窗\n",
    "    root = tk.Tk()\n",
    "    root.title(\"Allen Client\")\n",
    "\n",
    "    # 分割視窗為左右兩部分\n",
    "    left_frame = Frame(root)\n",
    "    left_frame.pack(side=tk.LEFT, fill=tk.BOTH, expand=True)\n",
    "\n",
    "    right_frame = Frame(root, bg='black')\n",
    "    right_frame.pack(side=tk.RIGHT, fill=tk.BOTH, expand=True)\n",
    "\n",
    "    # 左側內容\n",
    "    welcome_label = tk.Label(left_frame, text=\"Allen Client！\", font=('Arial', 14))\n",
    "    welcome_label.pack(pady=20)\n",
    "\n",
    "    start_button = tk.Button(left_frame, text=\"Start\", font=('Arial', 12), fg=\"black\", bg=\"red\")\n",
    "    start_button.pack(pady=10)\n",
    "\n",
    "    photo = load_image()\n",
    "    image_label = tk.Label(left_frame, image=photo)\n",
    "    image_label.image = photo\n",
    "    image_label.pack(pady=20)\n",
    "\n",
    "    # 右側內容 - 添加主題標籤和 Text 小部件\n",
    "    upper_frame = Frame(right_frame, bg='black')\n",
    "    upper_frame.pack(padx=20, pady=20, fill=tk.BOTH, expand=True)\n",
    "\n",
    "    topic_label = tk.Label(upper_frame, text=\"訊息公告區\", font=('Arial', 16, 'bold'), fg=\"white\", bg=\"black\")\n",
    "    topic_label.pack(pady=(0, 10))  # 上邊距0, 下邊距10\n",
    "\n",
    "    text_widget = tk.Text(upper_frame, bg=\"black\", fg=\"white\", font=('Arial', 12))\n",
    "    text_widget.insert(tk.END, \"2024.04.23 內部測試中\\n2024.04.23 僅進行介面介紹，尚未提供任何連動功能\")\n",
    "    text_widget.config(state='disabled')  # 使文字區域不可編輯\n",
    "    text_widget.pack(fill=tk.BOTH, expand=True)\n",
    "\n",
    "    # 添加滑軌 (Scale)，未來要連動電腦的RAM空間\n",
    "    scale_frame = Frame(right_frame, bg='black')\n",
    "    scale_frame.pack(padx=20, pady=20, fill=tk.BOTH)\n",
    "\n",
    "    scale_label = Label(scale_frame, text=\"RAM佔用率 (GB)\", fg=\"white\", bg=\"black\", font=('Arial', 12))\n",
    "    scale_label.pack()\n",
    "\n",
    "    ram_scale = Scale(scale_frame, from_=1, to=32, orient='horizontal', length=200, fg=\"white\", bg=\"black\", troughcolor=\"gray\", label=\"GB\")\n",
    "    ram_scale.pack()\n",
    "\n",
    "    # 運行主事件循環\n",
    "    root.mainloop()\n",
    "\n",
    "if __name__ == \"__main__\":\n",
    "    main()\n"
   ]
  },
  {
   "cell_type": "code",
   "execution_count": null,
   "id": "2a4f560c",
   "metadata": {},
   "outputs": [],
   "source": [
    "011.png\n"
   ]
  },
  {
   "cell_type": "code",
   "execution_count": null,
   "id": "eca0029d",
   "metadata": {},
   "outputs": [],
   "source": []
  },
  {
   "cell_type": "code",
   "execution_count": null,
   "id": "35221936",
   "metadata": {},
   "outputs": [],
   "source": []
  },
  {
   "cell_type": "code",
   "execution_count": null,
   "id": "12423489",
   "metadata": {},
   "outputs": [],
   "source": []
  },
  {
   "cell_type": "code",
   "execution_count": null,
   "id": "ece6dd3b",
   "metadata": {},
   "outputs": [],
   "source": []
  },
  {
   "cell_type": "code",
   "execution_count": null,
   "id": "ebe1fb00",
   "metadata": {},
   "outputs": [],
   "source": []
  },
  {
   "cell_type": "code",
   "execution_count": null,
   "id": "edc6e65c",
   "metadata": {},
   "outputs": [],
   "source": []
  },
  {
   "cell_type": "code",
   "execution_count": null,
   "id": "b056706d",
   "metadata": {},
   "outputs": [],
   "source": []
  },
  {
   "cell_type": "code",
   "execution_count": null,
   "id": "057e06dc",
   "metadata": {},
   "outputs": [],
   "source": []
  },
  {
   "cell_type": "code",
   "execution_count": null,
   "id": "32868565",
   "metadata": {},
   "outputs": [],
   "source": []
  }
 ],
 "metadata": {
  "kernelspec": {
   "display_name": "Python 3 (ipykernel)",
   "language": "python",
   "name": "python3"
  },
  "language_info": {
   "codemirror_mode": {
    "name": "ipython",
    "version": 3
   },
   "file_extension": ".py",
   "mimetype": "text/x-python",
   "name": "python",
   "nbconvert_exporter": "python",
   "pygments_lexer": "ipython3",
   "version": "3.11.7"
  }
 },
 "nbformat": 4,
 "nbformat_minor": 5
}
